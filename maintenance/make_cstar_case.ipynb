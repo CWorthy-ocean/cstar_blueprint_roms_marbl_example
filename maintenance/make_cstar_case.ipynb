{
 "cells": [
  {
   "cell_type": "markdown",
   "id": "e91b3a6e-89b0-456b-99aa-e01eab8168d7",
   "metadata": {},
   "source": [
    "---\n",
    "\n",
    "\n",
    "\n",
    "# Make C-Star Cases\n",
    "\n",
    "This notebook takes the input datasets prepared with `roms-tools` in the previous notebook and prepares and exports two C-Star Cases.\n",
    "The first uses netCDF input datasets (and can thus be prepared on any machine)\n",
    "The second uses yaml files to be passed to roms-tools via C-Star.\n",
    "\n",
    "---\n",
    "## Common steps (both netcdf and yaml):"
   ]
  },
  {
   "cell_type": "code",
   "execution_count": 1,
   "id": "7c7697d0-96b0-4c25-b693-9d8adbf2ddcd",
   "metadata": {},
   "outputs": [],
   "source": [
    "# If `local=True`, the blueprints will use local filesystem paths for AdditionalCode and InputDataset sources.\n",
    "# Otherwise, the blueprints will use URLs to repositories and files\n",
    "local=False\n",
    "if local:\n",
    "    code_location = str(Path.cwd())+\"/\"\n",
    "    additional_code_checkout_target = None\n",
    "    netcdf_dataset_location = str(Path(\"input_datasets_netcdf/\").resolve())+\"/\"\n",
    "    yaml_dataset_location = str(Path(\"input_datasets_yaml/\").resolve())+\"/\"\n",
    "else:\n",
    "    additional_code_location = \"https://github.com/CWorthy-ocean/cstar_blueprint_roms_marbl_example.git\"\n",
    "    additional_code_checkout_target = \"cstar_alpha\"\n",
    "    netcdf_dataset_location = \"https://github.com/CWorthy-ocean/cstar_blueprint_roms_marbl_example/raw/netcdf_inputs/input_datasets_netcdf/\"\n",
    "    yaml_dataset_location = \"https://github.com/CWorthy-ocean/cstar_blueprint_roms_marbl_example/raw/cstar_alpha/input_datasets_yaml/\""
   ]
  },
  {
   "cell_type": "markdown",
   "id": "78d2c327-d1a7-4739-bfe4-b3ecea103101",
   "metadata": {},
   "source": [
    "### BaseModel"
   ]
  },
  {
   "cell_type": "code",
   "execution_count": 4,
   "id": "b6d969e2-2624-4514-a562-9a30715a01b4",
   "metadata": {},
   "outputs": [],
   "source": [
    "from cstar.roms import ROMSBaseModel\n",
    "from cstar.marbl import MARBLBaseModel\n",
    "\n",
    "roms_base_model = ROMSBaseModel(\n",
    "    source_repo='https://github.com/CESR-lab/ucla-roms.git',\n",
    "    checkout_target=\"52adceac25670ee985d741d1bad62639dac3d183\",\n",
    ")\n",
    "\n",
    "marbl_base_model = MARBLBaseModel(\n",
    "    source_repo='https://github.com/marbl-ecosys/MARBL.git',\n",
    "    checkout_target='marbl0.45.0'\n",
    ")"
   ]
  },
  {
   "cell_type": "markdown",
   "id": "9aac6b64-d366-4ab2-9935-ca608c7a90b2",
   "metadata": {},
   "source": [
    "### MARBLComponent"
   ]
  },
  {
   "cell_type": "code",
   "execution_count": 13,
   "id": "df04719a-f03c-4014-8562-e288523eb998",
   "metadata": {},
   "outputs": [
    {
     "name": "stdout",
     "output_type": "stream",
     "text": [
      "MARBLComponent\n",
      "--------------\n",
      "base_model: MARBLBaseModel instance (query using Component.base_model)\n"
     ]
    }
   ],
   "source": [
    "from cstar.marbl import MARBLComponent\n",
    "\n",
    "marbl_component = MARBLComponent(\n",
    "    base_model = marbl_base_model\n",
    ")\n",
    "print(marbl_component)"
   ]
  },
  {
   "cell_type": "markdown",
   "id": "babaded4-6e9b-4723-823b-b3a8f17d8a53",
   "metadata": {},
   "source": [
    "### AdditionalCode"
   ]
  },
  {
   "cell_type": "code",
   "execution_count": 5,
   "id": "8e8da8e8-e7cb-4832-b1be-fd446d1e0cef",
   "metadata": {},
   "outputs": [
    {
     "name": "stdout",
     "output_type": "stream",
     "text": [
      "AdditionalCode\n",
      "--------------\n",
      "Location: https://github.com/CWorthy-ocean/cstar_blueprint_roms_marbl_example.git\n",
      "subdirectory: roms_runtime_code\n",
      "Working path: None\n",
      "Exists locally: False (get with AdditionalCode.get())\n",
      "Files:\n",
      "    roms.in_TEMPLATE      (roms.in will be used by C-Star based on this template)\n",
      "    marbl_in\n",
      "    marbl_tracer_output_list\n",
      "    marbl_diagnostic_output_list\n"
     ]
    }
   ],
   "source": [
    "\n",
    "from cstar.base import AdditionalCode\n",
    "\n",
    "roms_namelists = AdditionalCode(\n",
    "    location = additional_code_location,\n",
    "    subdir = \"roms_runtime_code\",\n",
    "    checkout_target = additional_code_checkout_target    ,\n",
    "    files = [\n",
    "        \"roms.in_TEMPLATE\",\n",
    "        \"marbl_in\",\n",
    "        \"marbl_tracer_output_list\",\n",
    "        \"marbl_diagnostic_output_list\"\n",
    "    ]\n",
    ")\n",
    "print(roms_namelists)"
   ]
  },
  {
   "cell_type": "code",
   "execution_count": 6,
   "id": "0f75c438-8e25-435a-962b-1bcc61247d18",
   "metadata": {},
   "outputs": [
    {
     "name": "stdout",
     "output_type": "stream",
     "text": [
      "AdditionalCode\n",
      "--------------\n",
      "Location: https://github.com/CWorthy-ocean/cstar_blueprint_roms_marbl_example.git\n",
      "subdirectory: roms_compile_time_code\n",
      "Working path: None\n",
      "Exists locally: False (get with AdditionalCode.get())\n",
      "Files:\n",
      "    bgc.opt\n",
      "    bulk_frc.opt\n",
      "    cppdefs.opt\n",
      "    diagnostics.opt\n",
      "    ocean_vars.opt\n",
      "    param.opt\n",
      "    tracers.opt\n",
      "    Makefile\n",
      "    Make.depend\n"
     ]
    }
   ],
   "source": [
    "roms_additional_source_code = AdditionalCode(\n",
    "    location = additional_code_location,\n",
    "    subdir = \"roms_compile_time_code\",\n",
    "    checkout_target = additional_code_checkout_target,\n",
    "    files = [\n",
    "        \"bgc.opt\",\n",
    "         \"bulk_frc.opt\",\n",
    "         \"cppdefs.opt\",\n",
    "         \"diagnostics.opt\",\n",
    "         \"ocean_vars.opt\",\n",
    "         \"param.opt\",\n",
    "         \"tracers.opt\",\n",
    "         \"Makefile\",\n",
    "         \"Make.depend\",\n",
    "    ]\n",
    ")\n",
    "\n",
    "print(roms_additional_source_code)"
   ]
  },
  {
   "cell_type": "markdown",
   "id": "097a0afa-1e03-4230-be6a-f577cd334a81",
   "metadata": {},
   "source": [
    "### Discretization"
   ]
  },
  {
   "cell_type": "code",
   "execution_count": 11,
   "id": "98c20853-352b-4bee-be56-bb112dc70245",
   "metadata": {},
   "outputs": [
    {
     "name": "stdout",
     "output_type": "stream",
     "text": [
      "ROMSDiscretization\n",
      "------------------\n",
      "time_step: 720s\n",
      "n_procs_x: 3 (Number of x-direction processors)\n",
      "n_procs_y: 3 (Number of y-direction processors)\n"
     ]
    }
   ],
   "source": [
    "from cstar.roms import ROMSDiscretization\n",
    "\n",
    "roms_discretization = ROMSDiscretization(time_step = 720,\n",
    "                                         n_procs_x = 3,\n",
    "                                         n_procs_y = 3)\n",
    "print(roms_discretization)"
   ]
  },
  {
   "cell_type": "markdown",
   "id": "5a82dff5-492d-4a1a-b726-287db18e6b8c",
   "metadata": {},
   "source": [
    "---\n",
    "## NetCDF-specific steps"
   ]
  },
  {
   "cell_type": "markdown",
   "id": "afbbd098-fde5-40dc-8646-4c4fa09007db",
   "metadata": {},
   "source": [
    "### InputDatasets (netcdf)"
   ]
  },
  {
   "cell_type": "code",
   "execution_count": 7,
   "id": "03e08e5c-a201-4b66-b933-a9a350f5cb19",
   "metadata": {},
   "outputs": [],
   "source": [
    "%%bash\n",
    "if [ -d input_datasets_netcdf ];then\n",
    "    cd input_datasets_netcdf/\n",
    "    shasum -a 256 *.nc\n",
    "fi"
   ]
  },
  {
   "cell_type": "code",
   "execution_count": 8,
   "id": "6d341e1e-630c-4573-acba-5afde9879e49",
   "metadata": {},
   "outputs": [],
   "source": [
    "from cstar.roms import ROMSModelGrid, ROMSInitialConditions, ROMSTidalForcing, ROMSBoundaryForcing, ROMSSurfaceForcing\n",
    "\n",
    "# Boundary\n",
    "roms_phys_boundary_forcing_nc = ROMSBoundaryForcing(\n",
    "    location=netcdf_dataset_location + \"roms_bry.nc\",\n",
    "    file_hash=\"93dc9e8aaebecec61895e344898a7679d058b8c8768436c45e7cfe6d672d5380\",\n",
    ")\n",
    "roms_bgc_boundary_forcing_nc = ROMSBoundaryForcing(\n",
    "    location = netcdf_dataset_location+\"roms_bry_bgc.nc\",\n",
    "    file_hash = \"1b2f1cc83441cc80d45055985a01bfaa0bc698104a2c58a00e7a87fafc214575\",\n",
    ")\n",
    "\n",
    "# Surface\n",
    "roms_phys_surface_forcing_nc = ROMSSurfaceForcing(\n",
    "    location=netcdf_dataset_location + \"roms_frc.nc\",\n",
    "    file_hash=\"8ef325c9242db183d27bf037b91c57d42fa04d9bb7ec7249fecc53ca707df2fb\",\n",
    ")\n",
    "roms_bgc_surface_forcing_nc = ROMSSurfaceForcing(\n",
    "    location=netcdf_dataset_location + \"roms_frc_bgc.nc\",\n",
    "    file_hash=\"43bd29ce46394fd62a9f6da299e8cb414df4b21ccf48c64830ee0f560252af39\",\n",
    ")\n",
    "\n",
    "#Grid\n",
    "roms_model_grid_nc = ROMSModelGrid(\n",
    "    location=netcdf_dataset_location + \"roms_grd.nc\",\n",
    "    file_hash=\"84f3667f39add10e977bb87c74c40776641e8fb27ad5d590948c858afe84a045\",\n",
    ")\n",
    "\n",
    "# Initial conditions\n",
    "roms_initial_conditions_nc = ROMSInitialConditions(\n",
    "    location=netcdf_dataset_location + \"roms_ini.nc\",\n",
    "    file_hash=\"1ffa9a85fe30c4c6999969e716ff6de833fc901d1cc213e89760bff8c22552bd\",\n",
    ")\n",
    "\n",
    "# Tides\n",
    "roms_tidal_forcing_nc = ROMSTidalForcing(\n",
    "    location=netcdf_dataset_location + \"roms_tides.nc\",\n",
    "    file_hash=\"a711d31087d2b0ed6569736db5139d17100c041d03484892e241a624eb4f9ea9\",\n",
    ")\n",
    "\n"
   ]
  },
  {
   "cell_type": "markdown",
   "id": "e97ff547-f5ef-4abf-9b37-9e7e05f5fb85",
   "metadata": {},
   "source": [
    "### ROMSComponent (netcdf)"
   ]
  },
  {
   "cell_type": "code",
   "execution_count": 14,
   "id": "162cbdaa-30c3-45b8-9dbb-a47e332ecf08",
   "metadata": {},
   "outputs": [
    {
     "name": "stdout",
     "output_type": "stream",
     "text": [
      "ROMSComponent\n",
      "-------------\n",
      "base_model: ROMSBaseModel instance (query using Component.base_model)\n",
      "additional_source_code: AdditionalCode instance with 9 files (query using Component.additional_source_code)\n",
      "namelists: AdditionalCode instance with 4 files (query using Component.namelists)\n",
      "model_grid = <ROMSModelGrid instance>\n",
      "initial_conditions = <ROMSInitialConditions instance>\n",
      "tidal_forcing = <ROMSTidalForcing instance>\n",
      "surface_forcing = <list of 2 ROMSSurfaceForcing instances>\n",
      "boundary_forcing = <list of 2 ROMSBoundaryForcing instances>\n",
      "\n",
      "Discretization:\n",
      "ROMSDiscretization\n",
      "------------------\n",
      "time_step: 720s\n",
      "n_procs_x: 3 (Number of x-direction processors)\n",
      "n_procs_y: 3 (Number of y-direction processors)\n"
     ]
    }
   ],
   "source": [
    "from cstar.roms import ROMSComponent\n",
    "roms_component_nc = ROMSComponent(\n",
    "    base_model = roms_base_model,\n",
    "    namelists = roms_namelists,\n",
    "    additional_source_code = roms_additional_source_code,\n",
    "    discretization = roms_discretization,\n",
    "    model_grid = roms_model_grid_nc,\n",
    "    initial_conditions = roms_initial_conditions_nc,\n",
    "    tidal_forcing = roms_tidal_forcing_nc,\n",
    "    boundary_forcing = [roms_phys_boundary_forcing_nc,roms_bgc_boundary_forcing_nc],\n",
    "    surface_forcing = [roms_phys_surface_forcing_nc, roms_bgc_surface_forcing_nc]\n",
    ")\n",
    "print(roms_component_nc)\n",
    "\n"
   ]
  },
  {
   "cell_type": "markdown",
   "id": "da05fcd0-6556-4326-9499-67ed81cdf136",
   "metadata": {},
   "source": [
    "### Case (netcdf)"
   ]
  },
  {
   "cell_type": "code",
   "execution_count": 16,
   "id": "eacbfc5a-a2a1-457f-b0d1-9aa5ada6e38c",
   "metadata": {},
   "outputs": [],
   "source": [
    "from cstar import Case"
   ]
  },
  {
   "cell_type": "code",
   "execution_count": 18,
   "id": "48c9dbc9-af95-4be4-8485-38819d2db68a",
   "metadata": {},
   "outputs": [
    {
     "name": "stdout",
     "output_type": "stream",
     "text": [
      "C-Star Case\n",
      "-----------\n",
      "Name: roms_marbl_example_cstar_case_nc\n",
      "caseroot: /global/cfs/cdirs/m4746/Users/dafydd/my_c_star/blueprints/cstar_blueprint_roms_marbl_example/roms_marbl_example_cstar_case_netcdf\n",
      "start_date: 2012-01-01 12:00:00\n",
      "end_date: 2012-01-10 12:00:00\n",
      "Is setup: False\n",
      "Valid date range:\n",
      "valid_start_date: 2012-01-01 12:00:00\n",
      "valid_end_date: 2012-01-31 12:00:00\n",
      "\n",
      "It is built from the following Components (query using Case.components): \n",
      "   <MARBLComponent instance>\n",
      "   <ROMSComponent instance>\n"
     ]
    }
   ],
   "source": [
    "roms_marbl_case_nc = Case(\n",
    "    components=[marbl_component, roms_component_nc],\n",
    "    name='roms_marbl_example_cstar_case_nc',\n",
    "    start_date = \"20120101 12:00:00\",\n",
    "    end_date = \"20120110 12:00:00\",\n",
    "    caseroot = \"roms_marbl_example_cstar_case_netcdf\",\n",
    "    valid_start_date = \"20120101 12:00:00\",\n",
    "    valid_end_date = \"20120131 12:00:00\"\n",
    ")\n",
    "print(roms_marbl_case_nc)\n",
    "roms_marbl_case_nc.to_blueprint(\"cstar_blueprint_example_with_netcdf_inputs.yaml\")"
   ]
  },
  {
   "cell_type": "markdown",
   "id": "998df6c8-92e1-4a08-959e-5bdf8fd1d635",
   "metadata": {},
   "source": [
    "### Setup and run (netcdf)"
   ]
  },
  {
   "cell_type": "code",
   "execution_count": null,
   "id": "334285dc-7d58-4514-8607-90cfa7e3a3a8",
   "metadata": {
    "scrolled": true
   },
   "outputs": [],
   "source": [
    "roms_marbl_case_nc.setup()\n",
    "roms_marbl_case_nc.build()\n",
    "roms_marbl_case_nc.pre_run()"
   ]
  },
  {
   "cell_type": "code",
   "execution_count": null,
   "id": "bd78ae76-054a-4eaf-b574-ca7503ab166c",
   "metadata": {},
   "outputs": [],
   "source": [
    "lp=roms_marbl_case_nc.run()"
   ]
  },
  {
   "cell_type": "code",
   "execution_count": null,
   "id": "fba162ab-7f84-469d-bc6c-93d9249f7bc5",
   "metadata": {},
   "outputs": [],
   "source": [
    "lp.updates(seconds=0,confirm_indefinite=False)"
   ]
  },
  {
   "cell_type": "code",
   "execution_count": null,
   "id": "94dd32e4-049b-4d40-8689-52bf369ce4ab",
   "metadata": {},
   "outputs": [],
   "source": [
    "roms_marbl_case_nc.post_run()"
   ]
  },
  {
   "cell_type": "markdown",
   "id": "8f943db4-5964-4f15-abae-583046cb9ae2",
   "metadata": {},
   "source": [
    "---\n",
    "## YAML-specific steps"
   ]
  },
  {
   "cell_type": "markdown",
   "id": "c7773410-5b81-4970-bfa3-db13e9f44989",
   "metadata": {},
   "source": [
    "### InputDatasets (yaml)"
   ]
  },
  {
   "cell_type": "code",
   "execution_count": 9,
   "id": "f3707d7c-9cfc-43af-98ce-4c65abebcd83",
   "metadata": {},
   "outputs": [
    {
     "name": "stdout",
     "output_type": "stream",
     "text": [
      "8c144be6ef23e3b91beb37ae9bdd52f582906729f9fd34849838d7ac4d05af36  roms_bry_bgc.yaml\n",
      "857db7b4ce0daf9bfe12a60a887645c49656c4d585286ca0c3715046fc8f3568  roms_bry.yaml\n",
      "2858a657b086a24764d25957b2d39893450321d6ed89ce7c88307e9f4eea2341  roms_frc_bgc.yaml\n",
      "b529ba66a6856a040bb3a21f90a2b4f2d62ecb2cd747ba81d0253d1b157846a9  roms_frc.yaml\n",
      "00f5cfed8eed278f9eb3c207158ab7d3ecec8c3c5bbf39265ace25a9492a44f9  roms_grd.yaml\n",
      "1d60e298e428a7c6dc399464e00e72cf755416b4b1b0bd9f754a08fac2d73da6  roms_ini.yaml\n",
      "8376a467ffef06d97af842ef602453a24d810086e7c3f75483d3a38cd0594d83  roms_riv_frc.yaml\n",
      "17e82347efab35e6508a0671a698bae8e93e1e944fc9afdb03ed19e3e363c7c4  roms_tides.yaml\n"
     ]
    }
   ],
   "source": [
    "%%bash\n",
    "if [ -d input_datasets_yaml ];then\n",
    "    cd input_datasets_yaml/\n",
    "    shasum -a 256 *.yaml\n",
    "fi"
   ]
  },
  {
   "cell_type": "code",
   "execution_count": 10,
   "id": "6ceb9245-b293-46d3-813b-469bad2507e9",
   "metadata": {},
   "outputs": [],
   "source": [
    "from cstar.roms import ROMSModelGrid, ROMSInitialConditions, ROMSTidalForcing, ROMSBoundaryForcing, ROMSSurfaceForcing\n",
    "\n",
    "# Boundary\n",
    "roms_bgc_boundary_forcing_yaml = ROMSBoundaryForcing(\n",
    "    location = yaml_dataset_location + \"roms_bry_bgc.yaml\",\n",
    "    file_hash = \"8c144be6ef23e3b91beb37ae9bdd52f582906729f9fd34849838d7ac4d05af36\",\n",
    ")\n",
    "roms_phys_boundary_forcing_yaml = ROMSBoundaryForcing(\n",
    "    location=yaml_dataset_location + \"roms_bry.yaml\",\n",
    "    file_hash=\"857db7b4ce0daf9bfe12a60a887645c49656c4d585286ca0c3715046fc8f3568\",\n",
    ")\n",
    "\n",
    "\n",
    "# Surface\n",
    "roms_bgc_surface_forcing_yaml = ROMSSurfaceForcing(\n",
    "    location=yaml_dataset_location + \"roms_frc_bgc.yaml\",\n",
    "    file_hash=\"2858a657b086a24764d25957b2d39893450321d6ed89ce7c88307e9f4eea2341\",\n",
    ")\n",
    "roms_phys_surface_forcing_yaml = ROMSSurfaceForcing(\n",
    "    location=yaml_dataset_location + \"roms_frc.yaml\",\n",
    "    file_hash=\"b529ba66a6856a040bb3a21f90a2b4f2d62ecb2cd747ba81d0253d1b157846a9\",\n",
    ")\n",
    "\n",
    "#Grid\n",
    "roms_model_grid_yaml = ROMSModelGrid(\n",
    "    location=yaml_dataset_location + \"roms_grd.yaml\",\n",
    "    file_hash=\"00f5cfed8eed278f9eb3c207158ab7d3ecec8c3c5bbf39265ace25a9492a44f9\",\n",
    ")\n",
    "\n",
    "# Initial conditions\n",
    "roms_initial_conditions_yaml = ROMSInitialConditions(\n",
    "    location=yaml_dataset_location + \"roms_ini.yaml\",\n",
    "    file_hash=\"1d60e298e428a7c6dc399464e00e72cf755416b4b1b0bd9f754a08fac2d73da6\",\n",
    ")\n",
    "\n",
    "# Tides\n",
    "roms_tidal_forcing_yaml = ROMSTidalForcing(\n",
    "    location=yaml_dataset_location + \"roms_tides.yaml\",\n",
    "    file_hash=\"17e82347efab35e6508a0671a698bae8e93e1e944fc9afdb03ed19e3e363c7c4\",\n",
    ")\n",
    "\n"
   ]
  },
  {
   "cell_type": "markdown",
   "id": "b76ee5a3-18c4-4c4f-923e-b46ad65f6919",
   "metadata": {},
   "source": [
    "### ROMSComponent (yaml)"
   ]
  },
  {
   "cell_type": "code",
   "execution_count": 15,
   "id": "4c6c517c-f5d9-4585-92ee-416cb703ab47",
   "metadata": {},
   "outputs": [
    {
     "name": "stdout",
     "output_type": "stream",
     "text": [
      "ROMSComponent\n",
      "-------------\n",
      "base_model: ROMSBaseModel instance (query using Component.base_model)\n",
      "additional_source_code: AdditionalCode instance with 9 files (query using Component.additional_source_code)\n",
      "namelists: AdditionalCode instance with 4 files (query using Component.namelists)\n",
      "model_grid = <ROMSModelGrid instance>\n",
      "initial_conditions = <ROMSInitialConditions instance>\n",
      "tidal_forcing = <ROMSTidalForcing instance>\n",
      "surface_forcing = <list of 2 ROMSSurfaceForcing instances>\n",
      "boundary_forcing = <list of 2 ROMSBoundaryForcing instances>\n",
      "\n",
      "Discretization:\n",
      "ROMSDiscretization\n",
      "------------------\n",
      "time_step: 720s\n",
      "n_procs_x: 3 (Number of x-direction processors)\n",
      "n_procs_y: 3 (Number of y-direction processors)\n"
     ]
    }
   ],
   "source": [
    "from cstar.roms import ROMSComponent\n",
    "roms_component_yaml = ROMSComponent(\n",
    "    base_model = roms_base_model,\n",
    "    namelists = roms_namelists,\n",
    "    additional_source_code = roms_additional_source_code,\n",
    "    discretization = roms_discretization,\n",
    "    model_grid = roms_model_grid_yaml,\n",
    "    initial_conditions = roms_initial_conditions_yaml,\n",
    "    tidal_forcing = roms_tidal_forcing_yaml,\n",
    "    boundary_forcing = [roms_phys_boundary_forcing_yaml,roms_bgc_boundary_forcing_yaml],\n",
    "    surface_forcing = [roms_phys_surface_forcing_yaml, roms_bgc_surface_forcing_yaml]\n",
    ")\n",
    "print(roms_component_yaml)\n",
    "\n"
   ]
  },
  {
   "cell_type": "markdown",
   "id": "461b7a60-d3ac-4251-a8ae-aee1005b7617",
   "metadata": {},
   "source": [
    "### Case (yaml)"
   ]
  },
  {
   "cell_type": "code",
   "execution_count": 19,
   "id": "ec018589-2fd4-4f3b-bce2-95d6d50fc639",
   "metadata": {},
   "outputs": [
    {
     "name": "stdout",
     "output_type": "stream",
     "text": [
      "C-Star Case\n",
      "-----------\n",
      "Name: roms_marbl_example_cstar_case_yaml\n",
      "caseroot: /global/cfs/cdirs/m4746/Users/dafydd/my_c_star/blueprints/cstar_blueprint_roms_marbl_example/roms_marbl_example_cstar_case_yaml\n",
      "start_date: 2012-01-01 12:00:00\n",
      "end_date: 2012-01-10 12:00:00\n",
      "Is setup: False\n",
      "Valid date range:\n",
      "valid_start_date: 2012-01-01 12:00:00\n",
      "valid_end_date: 2012-01-31 12:00:00\n",
      "\n",
      "It is built from the following Components (query using Case.components): \n",
      "   <MARBLComponent instance>\n",
      "   <ROMSComponent instance>\n"
     ]
    }
   ],
   "source": [
    "roms_marbl_case_yaml = Case(\n",
    "    components=[marbl_component, roms_component_yaml],\n",
    "    name='roms_marbl_example_cstar_case_yaml',\n",
    "    start_date = \"20120101 12:00:00\",\n",
    "    end_date = \"20120110 12:00:00\",\n",
    "    caseroot = \"roms_marbl_example_cstar_case_yaml\",\n",
    "    valid_start_date = \"20120101 12:00:00\",\n",
    "    valid_end_date = \"20120131 12:00:00\"\n",
    ")\n",
    "print(roms_marbl_case_yaml)\n",
    "roms_marbl_case_yaml.to_blueprint(\"cstar_blueprint_example_without_prepared_inputs.yaml\")"
   ]
  },
  {
   "cell_type": "markdown",
   "id": "4aa8d66b-77d0-4537-8a5c-2a3586133abf",
   "metadata": {},
   "source": [
    "### Setup and run (yaml)"
   ]
  },
  {
   "cell_type": "code",
   "execution_count": null,
   "id": "a0a52e83-86bd-43ee-a04f-06bc5aff99d2",
   "metadata": {},
   "outputs": [],
   "source": [
    "roms_marbl_case_yaml.setup()\n",
    "roms_marbl_case_yaml.build()\n",
    "roms_marbl_case_yaml.pre_run()"
   ]
  },
  {
   "cell_type": "code",
   "execution_count": 88,
   "id": "d0c40c6e-e284-4400-940d-627fb4c49e88",
   "metadata": {},
   "outputs": [],
   "source": [
    "import os"
   ]
  },
  {
   "cell_type": "code",
   "execution_count": 91,
   "id": "883fe3f4-5c18-4f80-baa7-067f63ff9325",
   "metadata": {},
   "outputs": [
    {
     "name": "stdout",
     "output_type": "stream",
     "text": [
      "\n",
      "Running ROMS... \n"
     ]
    }
   ],
   "source": [
    "lp_yaml=roms_marbl_case_yaml.run(account_key = os.environ.get(\"ACCOUNT_KEY\"),queue_name=\"shared\",walltime=\"00:10:00\")"
   ]
  },
  {
   "cell_type": "code",
   "execution_count": 95,
   "id": "5156ae42-0caa-4899-9b05-e9e797388efa",
   "metadata": {},
   "outputs": [
    {
     "name": "stdout",
     "output_type": "stream",
     "text": [
      "This job is currently not running (pending). Live updates cannot be provided.\n"
     ]
    }
   ],
   "source": [
    "lp_yaml.updates(seconds=0,confirm_indefinite=False)"
   ]
  },
  {
   "cell_type": "code",
   "execution_count": null,
   "id": "43c1c3c8-52c2-4cfb-b483-ae7f5678ece3",
   "metadata": {},
   "outputs": [],
   "source": [
    "roms_marbl_case_yaml.post_run()"
   ]
  }
 ],
 "metadata": {
  "kernelspec": {
   "display_name": "cstar_env",
   "language": "python",
   "name": "cstar_env"
  },
  "language_info": {
   "codemirror_mode": {
    "name": "ipython",
    "version": 3
   },
   "file_extension": ".py",
   "mimetype": "text/x-python",
   "name": "python",
   "nbconvert_exporter": "python",
   "pygments_lexer": "ipython3",
   "version": "3.13.1"
  }
 },
 "nbformat": 4,
 "nbformat_minor": 5
}
